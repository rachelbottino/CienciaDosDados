{
 "cells": [
  {
   "cell_type": "markdown",
   "metadata": {},
   "source": [
    "#Aula 03\n",
    "\n",
    "**Referência de Leitura:**\n",
    "1.\tMagalhães e Lima (7ª. Edição): pág. 18 a 25; pág. 106 e 107 (Definição 4.1 e Exemplo 4.1).\n",
    "2.\tMontgomery et al (5ª. Edição): pág. 24 a 28.\n",
    "\n",
    "**Hoje:**\n",
    "1. Explicar vantagens e desvantagens sobre o uso da frequência ou da densidade na construção de um histograma e saber interpretá-lo. \n",
    "2.\tInterpretar o comportamento de uma variável quantitativa a partir dos formatos de um histograma e/ou um box-plot.\n",
    "3.\tInterpretar as medidas-resumo a partir do conjunto de dados.\n",
    "4.\tComparar cenários, a partir dos gráficos e medidas calculadas, para tomada de decisão.\n",
    "\n",
    "**Próxima aula:**\n",
    "1.\tMagalhães e Lima (7ª. Edição): pág. 116 e 117 (Definição 4.4 e Exemplo 4.8).\n",
    "1.\tLeitura prévia: Montgomery et al (5ª. Edição): Seção 2.6 (pág. 46) e Exemplo 6.1 (pág. 306).\n"
   ]
  },
  {
   "cell_type": "markdown",
   "metadata": {},
   "source": [
    "___\n",
    "Nessa aula, a base de dados `Salarios.txt` apresenta salários de quatro profissões diferentes: A, B, C e D. Considere que esses salários foram mensurados para mil trabalhadores escolhidos aleatoriamente dentro de cada profissão. Os comandos abaixo abrem a base de dados:"
   ]
  },
  {
   "cell_type": "code",
   "execution_count": 82,
   "metadata": {
    "collapsed": false
   },
   "outputs": [],
   "source": [
    "%matplotlib inline\n",
    "\n",
    "import os\n",
    "import pandas as pd\n",
    "import numpy as np\n",
    "import matplotlib.pyplot as plt\n",
    "\n",
    "sal = pd.read_table('Salario.txt', sep=' ')"
   ]
  },
  {
   "cell_type": "markdown",
   "metadata": {},
   "source": [
    "1)\tGerar as tabelas de frequência absoluta, frequência relativa e frequência acumulada da profissão A. Compare as especificidades de cada tabela. Discorra um pouco sobre quartis utilizando as tabelas."
   ]
  },
  {
   "cell_type": "code",
   "execution_count": 83,
   "metadata": {
    "collapsed": false
   },
   "outputs": [],
   "source": [
    "n = sal.shape[0]"
   ]
  },
  {
   "cell_type": "code",
   "execution_count": 84,
   "metadata": {
    "collapsed": false
   },
   "outputs": [
    {
     "data": {
      "text/plain": [
       "0         1.0\n",
       "1000     16.0\n",
       "2000     92.0\n",
       "3000    169.0\n",
       "4000    278.0\n",
       "5000    303.0\n",
       "6000    141.0\n",
       "7000      0.0\n",
       "8000      NaN\n",
       "Name: A, dtype: float64"
      ]
     },
     "execution_count": 84,
     "metadata": {},
     "output_type": "execute_result"
    }
   ],
   "source": [
    "faixas = (0, 1000, 2000, 3000, 4000, 5000, 6000, 7000, 8000)\n",
    "n_faixas = [0, 1000, 2000, 3000, 4000, 5000, 6000, 7000, 8000]\n",
    "(sal.A.value_counts(bins=faixas)).reindex(n_faixas) #frequencia absoluta A"
   ]
  },
  {
   "cell_type": "code",
   "execution_count": 85,
   "metadata": {
    "collapsed": false
   },
   "outputs": [
    {
     "data": {
      "text/plain": [
       "0        0.1\n",
       "1000     1.6\n",
       "2000     9.2\n",
       "3000    16.9\n",
       "4000    27.8\n",
       "5000    30.3\n",
       "6000    14.1\n",
       "7000     0.0\n",
       "8000     NaN\n",
       "Name: A, dtype: float64"
      ]
     },
     "execution_count": 85,
     "metadata": {},
     "output_type": "execute_result"
    }
   ],
   "source": [
    "(((sal.A.value_counts(bins=faixas))/n)*100).reindex(n_faixas) #frequencia relativa A"
   ]
  },
  {
   "cell_type": "markdown",
   "metadata": {},
   "source": [
    "As tabelas representam afrequencia absoluta, relativa e acumulada respectivamente. A absoluta representa a quantidade total de pessoas para cada faixa salarial. A relativa, representa esses dados percentualmente. \n",
    "Já a frequencia acumulada, em cada faixa representa a porcentagem de pessoas com o salário *até* aquela faixa, sendo a ultima barra igual a 1."
   ]
  },
  {
   "cell_type": "code",
   "execution_count": 174,
   "metadata": {
    "collapsed": false
   },
   "outputs": [
    {
     "name": "stdout",
     "output_type": "stream",
     "text": [
      "Frequência Absoluta: \n",
      "0.1\n",
      "1.7\n",
      "10.9\n",
      "27.8\n",
      "55.6\n",
      "85.9\n",
      "100.0\n",
      "nan\n",
      "[0, 0.10000000000000001, 1.7000000000000002, 10.899999999999999, 27.800000000000001, 55.600000000000009, 85.900000000000006, 100.0, nan]\n"
     ]
    }
   ],
   "source": [
    "frequencias = (((sal.A.value_counts(bins=faixas))/n)*100).reindex(n_faixas)\n",
    "lista_frequencias = []\n",
    "freq_abs = [0]\n",
    "print (\"Frequência Acumulada: \")\n",
    "\n",
    "for f in frequencias:\n",
    "    if f != 0:\n",
    "        lista_frequencias.append(f)\n",
    "        ultimo = freq_abs.pop()\n",
    "        valor = f + ultimo\n",
    "        print (valor)\n",
    "        freq_abs.append(ultimo)\n",
    "        freq_abs.append(valor)\n",
    "\n",
    "print (freq_abs)"
   ]
  },
  {
   "cell_type": "markdown",
   "metadata": {},
   "source": [
    "2)\tFazer o histograma de cada profissão. Escolha a mesma quantidade de classes das tabelas acima."
   ]
  },
  {
   "cell_type": "code",
   "execution_count": 87,
   "metadata": {
    "collapsed": false
   },
   "outputs": [
    {
     "data": {
      "text/plain": [
       "<matplotlib.text.Text at 0xd4c7eb0>"
      ]
     },
     "execution_count": 87,
     "metadata": {},
     "output_type": "execute_result"
    },
    {
     "data": {
      "image/png": "[encoded data removed]",
      "text/plain": [
       "<matplotlib.figure.Figure at 0xd478430>"
      ]
     },
     "metadata": {},
     "output_type": "display_data"
    }
   ],
   "source": [
    "sal.A.hist(color=('aqua'))\n",
    "plt.title('PROFISSÃO A')"
   ]
  },
  {
   "cell_type": "code",
   "execution_count": 88,
   "metadata": {
    "collapsed": false
   },
   "outputs": [
    {
     "data": {
      "text/plain": [
       "<matplotlib.text.Text at 0xe710c10>"
      ]
     },
     "execution_count": 88,
     "metadata": {},
     "output_type": "execute_result"
    },
    {
     "data": {
      "image/png": "[encoded data removed]",
      "text/plain": [
       "<matplotlib.figure.Figure at 0xd3489b0>"
      ]
     },
     "metadata": {},
     "output_type": "display_data"
    }
   ],
   "source": [
    "sal.B.hist(color=('fuchsia'))\n",
    "plt.title('PROFISSÃO B')"
   ]
  },
  {
   "cell_type": "code",
   "execution_count": 89,
   "metadata": {
    "collapsed": false
   },
   "outputs": [
    {
     "data": {
      "text/plain": [
       "<matplotlib.text.Text at 0xe7623b0>"
      ]
     },
     "execution_count": 89,
     "metadata": {},
     "output_type": "execute_result"
    },
    {
     "data": {
      "image/png": "[encoded data removed]",
      "text/plain": [
       "<matplotlib.figure.Figure at 0xe70b8b0>"
      ]
     },
     "metadata": {},
     "output_type": "display_data"
    }
   ],
   "source": [
    "sal.C.hist(color=('coral'))\n",
    "plt.title('PROFISSÃO C')"
   ]
  },
  {
   "cell_type": "code",
   "execution_count": 90,
   "metadata": {
    "collapsed": false
   },
   "outputs": [
    {
     "data": {
      "text/plain": [
       "<matplotlib.text.Text at 0xd126b30>"
      ]
     },
     "execution_count": 90,
     "metadata": {},
     "output_type": "execute_result"
    },
    {
     "data": {
      "image/png": "[encoded data removed]",
      "text/plain": [
       "<matplotlib.figure.Figure at 0xd3fe690>"
      ]
     },
     "metadata": {},
     "output_type": "display_data"
    }
   ],
   "source": [
    "sal.D.hist(color=('orchid'))\n",
    "plt.title('PROFISSÃO D')"
   ]
  },
  {
   "cell_type": "markdown",
   "metadata": {},
   "source": [
    "2.1)\tRefazer os gráficos utilizando o argumento \"normed=True\". Selecione a profissão A e compare com histograma do item anterior. Compare também com as tabelas feitas no item 1."
   ]
  },
  {
   "cell_type": "code",
   "execution_count": 91,
   "metadata": {
    "collapsed": false
   },
   "outputs": [
    {
     "data": {
      "text/plain": [
       "<matplotlib.text.Text at 0xe799df0>"
      ]
     },
     "execution_count": 91,
     "metadata": {},
     "output_type": "execute_result"
    },
    {
     "data": {
      "image/png": "[encoded data removed]",
      "text/plain": [
       "<matplotlib.figure.Figure at 0xd119110>"
      ]
     },
     "metadata": {},
     "output_type": "display_data"
    }
   ],
   "source": [
    "sal.A.hist(color=('aqua'), normed=True)\n",
    "plt.title('PROFISSÃO A')\n"
   ]
  },
  {
   "cell_type": "markdown",
   "metadata": {},
   "source": [
    "___\n",
    "3)\tConsiderando a distribuição dos salários em cada profissão, descreva qual deve ser sua influência sobre as seguintes características (não faça contas):\n",
    "\n",
    "3.1.\tMedidas de tendência central: os valores tendem a agrupar ao redor de um particular ponto?<br>\n",
    "\n",
    "Na profissão A, os valores tendem a se agrupar por volta dos 5000-6000. Na B, por volta dos 4000-5000. Na profissão C os valores não são agrupados em uma determinada faixa. Na D, por volta de 2000-3000.<br>\n",
    "\n",
    "3.2.\tCaudas: as probabilidades caem da mesma forma conforme se distancia, para direita e para esquerda, da faixa salarial com maior densidade? Elas podem influenciar no formato dos dados?<br>\n",
    "\n",
    "Não, as faixas salariais não caem da mesma forma para os dois lados. As probabilidades podem influenciar o formato dos dados.<br>\n",
    "\n",
    "3.3.\tOutliers (valores aberrantes): Há valores extremos que e distanciam de alguma medida central?<br>\n",
    "\n",
    "Existem valores extremos"
   ]
  },
  {
   "cell_type": "markdown",
   "metadata": {},
   "source": [
    "___\n",
    "4)\tHá medidas-resumo que buscam sumarizar as informações de variáveis quantitativas representando, por exemplo, a tendência central dos dados. Nesse caso, busque os comandos para calcular as seguintes medidas:\n",
    "\n",
    "4.1.\tMédia, mediana e moda para cada profissão. Interprete o resultado."
   ]
  },
  {
   "cell_type": "code",
   "execution_count": 112,
   "metadata": {
    "collapsed": false
   },
   "outputs": [
    {
     "name": "stdout",
     "output_type": "stream",
     "text": [
      "Média A:\n",
      "4683.116909999999\n",
      "\n",
      "Mediana A:\n",
      "4838.56\n",
      "\n",
      "Moda A:\n",
      "Series([], dtype: float64)\n"
     ]
    }
   ],
   "source": [
    "media_A = sal.A.mean()\n",
    "print(\"Média A:\")\n",
    "print(media_A)\n",
    "print()\n",
    "mediana_A = sal.A.median()\n",
    "print(\"Mediana A:\")\n",
    "print(mediana_A)\n",
    "print()\n",
    "moda_A = sal.A.mode()\n",
    "print(\"Moda A:\")\n",
    "print(moda_A)"
   ]
  },
  {
   "cell_type": "code",
   "execution_count": 113,
   "metadata": {
    "collapsed": false
   },
   "outputs": [
    {
     "name": "stdout",
     "output_type": "stream",
     "text": [
      "Média B:\n",
      "4470.739759999997\n",
      "\n",
      "Mediana B:\n",
      "4486.4400000000005\n",
      "\n",
      "Moda B:\n",
      "0    4959.34\n",
      "1    5664.80\n",
      "dtype: float64\n"
     ]
    }
   ],
   "source": [
    "media_B = sal.B.mean()\n",
    "print(\"Média B:\")\n",
    "print(media_B)\n",
    "print()\n",
    "mediana_B = sal.B.median()\n",
    "print(\"Mediana B:\")\n",
    "print(mediana_B)\n",
    "print()\n",
    "moda_B = sal.B.mode()\n",
    "print(\"Moda B:\")\n",
    "print(moda_B)"
   ]
  },
  {
   "cell_type": "code",
   "execution_count": 114,
   "metadata": {
    "collapsed": false
   },
   "outputs": [
    {
     "name": "stdout",
     "output_type": "stream",
     "text": [
      "Média C:\n",
      "4207.062149999995\n",
      "\n",
      "Mediana C:\n",
      "4264.84\n",
      "\n",
      "Moda C:\n",
      "0    2401.22\n",
      "dtype: float64\n"
     ]
    }
   ],
   "source": [
    "media_C = sal.C.mean()\n",
    "print(\"Média C:\")\n",
    "print(media_C)\n",
    "print()\n",
    "mediana_C = sal.C.median()\n",
    "print(\"Mediana C:\")\n",
    "print(mediana_C)\n",
    "print()\n",
    "moda_C = sal.C.mode()\n",
    "print(\"Moda C:\")\n",
    "print(moda_C)"
   ]
  },
  {
   "cell_type": "code",
   "execution_count": 115,
   "metadata": {
    "collapsed": false
   },
   "outputs": [
    {
     "name": "stdout",
     "output_type": "stream",
     "text": [
      "Média D:\n",
      "4207.062149999995\n",
      "\n",
      "Mediana D:\n",
      "3076.09\n",
      "\n",
      "Moda D:\n",
      "0    2258.49\n",
      "dtype: float64\n"
     ]
    }
   ],
   "source": [
    "media_D = sal.D.mean()\n",
    "print(\"Média D:\")\n",
    "print(media_C)\n",
    "print()\n",
    "mediana_D = sal.D.median()\n",
    "print(\"Mediana D:\")\n",
    "print(mediana_D)\n",
    "print()\n",
    "moda_D = sal.D.mode()\n",
    "print(\"Moda D:\")\n",
    "print(moda_D)"
   ]
  },
  {
   "cell_type": "markdown",
   "metadata": {},
   "source": [
    "___\n",
    "5) Faça o gráfico Boxplot de cada variável. Explique o conceito do Boxplot.  \n",
    "Considerando essas definições, descreva o comportamento dos salários em cada profissão. Confronte com interpretações anteriores. "
   ]
  },
  {
   "cell_type": "code",
   "execution_count": 181,
   "metadata": {
    "collapsed": false
   },
   "outputs": [
    {
     "name": "stderr",
     "output_type": "stream",
     "text": [
      "C:\\Users\\Rachel\\Anaconda3\\lib\\site-packages\\ipykernel\\__main__.py:1: FutureWarning: \n",
      "The default value for 'return_type' will change to 'axes' in a future release.\n",
      " To use the future behavior now, set return_type='axes'.\n",
      " To keep the previous behavior and silence this warning, set return_type='dict'.\n",
      "  if __name__ == '__main__':\n"
     ]
    },
    {
     "data": {
      "text/plain": [
       "{'boxes': [<matplotlib.lines.Line2D at 0xf1088f0>,\n",
       "  <matplotlib.lines.Line2D at 0xf113770>,\n",
       "  <matplotlib.lines.Line2D at 0xf11f8d0>,\n",
       "  <matplotlib.lines.Line2D at 0xf12ba30>],\n",
       " 'caps': [<matplotlib.lines.Line2D at 0xf10f870>,\n",
       "  <matplotlib.lines.Line2D at 0xf10fd30>,\n",
       "  <matplotlib.lines.Line2D at 0xf11a9d0>,\n",
       "  <matplotlib.lines.Line2D at 0xf11ae90>,\n",
       "  <matplotlib.lines.Line2D at 0xf125b30>,\n",
       "  <matplotlib.lines.Line2D at 0xf125ff0>,\n",
       "  <matplotlib.lines.Line2D at 0xf130c90>,\n",
       "  <matplotlib.lines.Line2D at 0xf130d30>],\n",
       " 'fliers': [<matplotlib.lines.Line2D at 0xf1136d0>,\n",
       "  <matplotlib.lines.Line2D at 0xf11f830>,\n",
       "  <matplotlib.lines.Line2D at 0xf12b990>,\n",
       "  <matplotlib.lines.Line2D at 0xf135af0>],\n",
       " 'means': [],\n",
       " 'medians': [<matplotlib.lines.Line2D at 0xf10fdd0>,\n",
       "  <matplotlib.lines.Line2D at 0xf11af30>,\n",
       "  <matplotlib.lines.Line2D at 0xf12b0b0>,\n",
       "  <matplotlib.lines.Line2D at 0xf135210>],\n",
       " 'whiskers': [<matplotlib.lines.Line2D at 0xf108ed0>,\n",
       "  <matplotlib.lines.Line2D at 0xf108f70>,\n",
       "  <matplotlib.lines.Line2D at 0xf113fb0>,\n",
       "  <matplotlib.lines.Line2D at 0xf11a510>,\n",
       "  <matplotlib.lines.Line2D at 0xf11fd70>,\n",
       "  <matplotlib.lines.Line2D at 0xf125670>,\n",
       "  <matplotlib.lines.Line2D at 0xf12be90>,\n",
       "  <matplotlib.lines.Line2D at 0xf1307d0>]}"
      ]
     },
     "execution_count": 181,
     "metadata": {},
     "output_type": "execute_result"
    },
    {
     "data": {
      "image/png": "[encoded data removed]",
      "text/plain": [
       "<matplotlib.figure.Figure at 0xf1d3270>"
      ]
     },
     "metadata": {},
     "output_type": "display_data"
    }
   ],
   "source": [
    "sal.boxplot()"
   ]
  },
  {
   "cell_type": "markdown",
   "metadata": {},
   "source": [
    "Os boxplots mostram as medianas de cada profissão (linha vermelha) e os seus quartis. Vatores aberrantes (outliers) também são representados pelo simbolo +."
   ]
  },
  {
   "cell_type": "markdown",
   "metadata": {},
   "source": [
    "___\n",
    "6) Suponha que queira seguir uma das quatro profissões (A, B, C e D) e que sua decisão será guiada pelo futuro desempenho salarial que possa vim a ter. Assim, escreva um parágrafo que use os resultados desenvolvidos na aula de hoje, os quais respaldam sua escolha. Faça isso de forma clara e sucinta."
   ]
  },
  {
   "cell_type": "markdown",
   "metadata": {
    "collapsed": true
   },
   "source": [
    "Analisando os dados obtidos nesse estudo é possivel inferir que:\n",
    " * A profissão A apresenta um certo grau de segurança, já que grante parte dos seus empregados tem um salário acima dos 4000 reais.\n",
    " * A profissão B não seria uma boa opção de carreira, já que o salário médio está abaixo do da profissão A. Porém, uma parcela pequena, apresentam salário acima dos 8000 reais.\n",
    " * A pofissão C é a opção mais segura, já que apresenta muita oportunidade para todas as faixas de salário, contudo, há possibilidades grandes de se ter um salário baixo.\n",
    " * A profissão D é um grande risco. Apesar disso, uma minoria consegue os maiores salarios comparado às outras profissões."
   ]
  },
  {
   "cell_type": "code",
   "execution_count": null,
   "metadata": {
    "collapsed": true
   },
   "outputs": [],
   "source": []
  }
 ],
 "metadata": {
  "anaconda-cloud": {},
  "kernelspec": {
   "display_name": "Python 3",
   "language": "python",
   "name": "python3"
  },
  "language_info": {
   "codemirror_mode": {
    "name": "ipython",
    "version": 3
   },
   "file_extension": ".py",
   "mimetype": "text/x-python",
   "name": "python",
   "nbconvert_exporter": "python",
   "pygments_lexer": "ipython3",
   "version": "3.5.2"
  }
 },
 "nbformat": 4,
 "nbformat_minor": 0
}
